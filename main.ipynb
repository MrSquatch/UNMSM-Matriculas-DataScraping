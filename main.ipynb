{
 "cells": [
  {
   "cell_type": "code",
   "execution_count": null,
   "metadata": {},
   "outputs": [],
   "source": [
    "# Ingresa aqui tus datos para ingresar al sum\n",
    "usuario = \"nombre.apellido\"\n",
    "contraseña = \"123456\"\n",
    "\n",
    "# No hay necesidad de editar mas del codigo. \n",
    "# Solo ejecutelo todo y obtendra el archivo de asignaturas en formato json."
   ]
  },
  {
   "cell_type": "code",
   "execution_count": null,
   "metadata": {},
   "outputs": [],
   "source": [
    "import requests\n",
    "from bs4 import BeautifulSoup as soup\n",
    "# from IPython.display import HTML"
   ]
  },
  {
   "cell_type": "code",
   "execution_count": null,
   "metadata": {},
   "outputs": [],
   "source": [
    "# send HTTP requests\n",
    "login_url = \"https://sum.unmsm.edu.pe/alumnoWebSum/login\"\n",
    "login_get = requests.get(login_url)\n",
    "print(login_get.status_code)"
   ]
  },
  {
   "cell_type": "code",
   "execution_count": null,
   "metadata": {},
   "outputs": [],
   "source": [
    "print(login_get.text)"
   ]
  },
  {
   "cell_type": "code",
   "execution_count": null,
   "metadata": {},
   "outputs": [],
   "source": [
    "# parse response's html\n",
    "login_content=soup(login_get.text,\"lxml\")"
   ]
  },
  {
   "cell_type": "code",
   "execution_count": null,
   "metadata": {},
   "outputs": [],
   "source": [
    "# get csrf token from login page's html\n",
    "csrf_token = login_content.input[\"value\"]\n",
    "print(csrf_token)"
   ]
  },
  {
   "cell_type": "code",
   "execution_count": null,
   "metadata": {},
   "outputs": [],
   "source": [
    "# get response about Cookies\n",
    "cookies_get = login_get.cookies\n",
    "\n",
    "# store needed cookies from login page\n",
    "e900=cookies_get[\"8390ce12805d422a96ff76763b01e900\"]\n",
    "h_id=cookies_get[\"HWWAFSESID\"]\n",
    "h_time=cookies_get[\"HWWAFSESTIME\"]\n",
    "session=cookies_get[\"JSESSIONID\"]\n",
    "\n",
    "print(e900)\n",
    "print(h_id)\n",
    "print(h_time)\n",
    "print(session)"
   ]
  },
  {
   "cell_type": "code",
   "execution_count": null,
   "metadata": {},
   "outputs": [],
   "source": [
    "# with all the collected data, send a post method to login page\n",
    "post_cookies = {\n",
    "    \"8390ce12805d422a96ff76763b01e900\": e900,\n",
    "    \"HWWAFSESID\": h_id,\n",
    "    \"HWWAFSESTIME\": h_time,\n",
    "    \"JSESSIONID\": session\n",
    "}\n",
    "\n",
    "post_headers = {\n",
    "    \"Accept\": \"text/html,application/xhtml+xml,application/xml;q=0.9,image/avif,image/webp,image/apng,*/*;q=0.8,application/signed-exchange;v=b3;q=0.7\",\n",
    "    \"Accept-Language\": \"es-419,es;q=0.9,es-ES;q=0.8,en;q=0.7,en-GB;q=0.6,en-US;q=0.5,es-PE;q=0.4\",\n",
    "    \"Cache-Control\": \"max-age=0\",\n",
    "    \"Connection\": \"keep-alive\",\n",
    "    \"Content-Type\": \"application/x-www-form-urlencoded\",\n",
    "    \"Origin\": \"https://sum.unmsm.edu.pe\",\n",
    "    \"Referer\": \"https://sum.unmsm.edu.pe/alumnoWebSum/login?logout\",\n",
    "    \"Sec-Fetch-Dest\": \"document\",\n",
    "    \"Sec-Fetch-Mode\": \"navigate\",\n",
    "    \"Sec-Fetch-Site\": \"same-origin\",\n",
    "    \"Sec-Fetch-User\": \"?1\",\n",
    "    \"Upgrade-Insecure-Requests\": \"1\",\n",
    "    \"User-Agent\": \"Mozilla/5.0 (Windows NT 10.0; Win64; x64) AppleWebKit/537.36 (KHTML, like Gecko) Chrome/122.0.0.0 Safari/537.36 Edg/122.0.0.0\",\n",
    "    \"sec-ch-ua\": \"\\\"Chromium\\\";v=\\\"122\\\", \\\"Not(A:Brand\\\";v=\\\"24\\\", \\\"Microsoft Edge\\\";v=\\\"122\\\"\",\n",
    "    \"sec-ch-ua-mobile\": \"?0\",\n",
    "    \"sec-ch-ua-platform\": \"\\\"Windows\\\"\"\n",
    "}\n",
    "\n",
    "post_data = {\n",
    "    \"_csrf\": csrf_token,\n",
    "    \"login\": usuario,\n",
    "    \"clave\": contraseña\n",
    "}\n",
    "\n",
    "post_res = requests.post(login_url, \n",
    "                         cookies=post_cookies, \n",
    "                         headers=post_headers, \n",
    "                         data=post_data, \n",
    "                         allow_redirects=False\n",
    "                         )\n",
    "\n"
   ]
  },
  {
   "cell_type": "code",
   "execution_count": null,
   "metadata": {},
   "outputs": [],
   "source": [
    "if post_res.status_code == 302:  # Código de estado HTTP para redirección\n",
    "    print(\"Redireccionado a:\", post_res.headers['Location'])\n",
    "    # Si es una redirección, puedes realizar una nueva solicitud a la URL proporcionada en response.headers['Location']\n",
    "else:\n",
    "    print(\"El status code no fue 302. Algo salió mal\")\n",
    "\n",
    "print(post_res.headers)"
   ]
  },
  {
   "cell_type": "code",
   "execution_count": null,
   "metadata": {},
   "outputs": [],
   "source": [
    "print(post_cookies)\n",
    "print(post_res.cookies)\n",
    "\n",
    "session=post_res.cookies[\"JSESSIONID\"]\n",
    "\n",
    "if post_res.text:\n",
    "    print(post_res.text)\n",
    "else:\n",
    "    print(\"no hay nada dentro del .text\")"
   ]
  },
  {
   "cell_type": "code",
   "execution_count": null,
   "metadata": {},
   "outputs": [],
   "source": [
    "final_cookies = {\n",
    "    \"8390ce12805d422a96ff76763b01e900\": e900,\n",
    "    \"HWWAFSESID\": h_id,\n",
    "    \"HWWAFSESTIME\": h_time,\n",
    "    \"JSESSIONID\": session\n",
    "}"
   ]
  },
  {
   "cell_type": "code",
   "execution_count": null,
   "metadata": {},
   "outputs": [],
   "source": [
    "redir_url = \"https://sum.unmsm.edu.pe\" + post_res.headers['Location']\n",
    "\n",
    "redir_get = requests.get(redir_url, \n",
    "                         cookies=final_cookies, \n",
    "                         headers=post_headers\n",
    "                         )"
   ]
  },
  {
   "cell_type": "code",
   "execution_count": null,
   "metadata": {},
   "outputs": [],
   "source": [
    "print(redir_get.text)"
   ]
  },
  {
   "cell_type": "code",
   "execution_count": null,
   "metadata": {},
   "outputs": [],
   "source": [
    "print(redir_get.url)"
   ]
  },
  {
   "cell_type": "code",
   "execution_count": null,
   "metadata": {},
   "outputs": [],
   "source": [
    "#print(post_data['login'])"
   ]
  },
  {
   "cell_type": "code",
   "execution_count": null,
   "metadata": {},
   "outputs": [],
   "source": [
    "if redir_get.url == \"https://sum.unmsm.edu.pe/alumnoWebSum/sesionIniciada\":\n",
    "    sesInit_url=\"https://sum.unmsm.edu.pe/alumnoWebSum/reiniciarSesion?us=\" + post_data['login']\n",
    "    \n",
    "    sesInit_get = requests.get(sesInit_url, \n",
    "                         cookies=final_cookies, \n",
    "                         headers=post_headers\n",
    "                         )\n",
    "    \n",
    "    print(sesInit_get.text)\n",
    "else:\n",
    "    print(\"No existe una sesion iniciada\")"
   ]
  },
  {
   "cell_type": "code",
   "execution_count": null,
   "metadata": {},
   "outputs": [],
   "source": [
    "import time"
   ]
  },
  {
   "cell_type": "code",
   "execution_count": null,
   "metadata": {},
   "outputs": [],
   "source": [
    "time.sleep(15)"
   ]
  },
  {
   "cell_type": "code",
   "execution_count": null,
   "metadata": {},
   "outputs": [],
   "source": [
    "asig_url=\"https://sum.unmsm.edu.pe/alumnoWebSum/v2/matricula/programacion?accion=obtenerProgramacionAsignaturas\"\n",
    "\n",
    "asig_cookies = {\n",
    "    \"8390ce12805d422a96ff76763b01e900\": e900,\n",
    "    \"HWWAFSESID\": h_id,\n",
    "    \"HWWAFSESTIME\": h_time,\n",
    "    \"JSESSIONID\": session\n",
    "}\n",
    "\n",
    "asig_headers = {\n",
    "    \"Accept\": \"*/*\",\n",
    "    \"Accept-Language\": \"es-419,es;q=0.9,es-ES;q=0.8,en;q=0.7,en-GB;q=0.6,en-US;q=0.5,es-PE;q=0.4\",\n",
    "    \"Connection\": \"keep-alive\",\n",
    "    \"Referer\": \"https://sum.unmsm.edu.pe/alumnoWebSum/v2/matricula/programacion\",\n",
    "    \"Sec-Fetch-Dest\": \"empty\",\n",
    "    \"Sec-Fetch-Mode\": \"cors\",\n",
    "    \"Sec-Fetch-Site\": \"same-origin\",\n",
    "    \"User-Agent\": \"Mozilla/5.0 (Windows NT 10.0; Win64; x64) AppleWebKit/537.36 (KHTML, like Gecko) Chrome/122.0.0.0 Safari/537.36 Edg/122.0.0.0\",\n",
    "    \"X-Requested-With\": \"XMLHttpRequest\",\n",
    "    \"sec-ch-ua\": '\"Chromium\";v=\"122\", \"Not(A:Brand\";v=\"24\", \"Microsoft Edge\";v=\"122\"\"',\n",
    "    \"sec-ch-ua-mobile\": \"?0\",\n",
    "    \"sec-ch-ua-platform\": '\"Windows\"'\n",
    "}\n",
    "\n",
    "asig_res = requests.get(asig_url, headers=asig_headers, cookies=asig_cookies)\n",
    "\n",
    "print(asig_res.status_code)\n",
    "print(asig_res.cookies)\n",
    "print(asig_res.text)"
   ]
  },
  {
   "cell_type": "code",
   "execution_count": null,
   "metadata": {},
   "outputs": [],
   "source": [
    "import json"
   ]
  },
  {
   "cell_type": "code",
   "execution_count": null,
   "metadata": {},
   "outputs": [],
   "source": [
    "# Especifica la codificación UTF-8 al cargar el JSON\n",
    "asig_json = json.loads(asig_res.text)\n",
    "\n",
    "# Convierte el JSON en una cadena con formato bonito\n",
    "asig_pretty = json.dumps(asig_json, indent=3, ensure_ascii=False)\n",
    "\n",
    "# Imprime el resultado\n",
    "print(asig_pretty)"
   ]
  },
  {
   "cell_type": "code",
   "execution_count": null,
   "metadata": {},
   "outputs": [],
   "source": [
    "#print(asig_json)\n",
    "cursos = asig_json['data']['programacion']\n",
    "cursos_pretty = json.dumps(cursos,indent=3,ensure_ascii=False)\n",
    "\n",
    "print(cursos_pretty)"
   ]
  },
  {
   "cell_type": "code",
   "execution_count": null,
   "metadata": {},
   "outputs": [],
   "source": [
    "# Writing to sample.json\n",
    "with open(\"asign.json\", \"w\", encoding='utf-8') as outfile:\n",
    "    outfile.write(cursos_pretty)\n",
    "\n",
    "print(\"done\")"
   ]
  }
 ],
 "metadata": {
  "kernelspec": {
   "display_name": "Python 3 (ipykernel)",
   "language": "python",
   "name": "python3"
  },
  "language_info": {
   "codemirror_mode": {
    "name": "ipython",
    "version": 3
   },
   "file_extension": ".py",
   "mimetype": "text/x-python",
   "name": "python",
   "nbconvert_exporter": "python",
   "pygments_lexer": "ipython3",
   "version": "3.9.7"
  }
 },
 "nbformat": 4,
 "nbformat_minor": 4
}
